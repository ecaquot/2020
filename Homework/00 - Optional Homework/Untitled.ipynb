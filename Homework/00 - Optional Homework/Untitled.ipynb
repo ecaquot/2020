{
 "cells": [
  {
   "cell_type": "code",
   "execution_count": 39,
   "metadata": {},
   "outputs": [],
   "source": [
    "import csv\n",
    "import pandas as pd\n",
    "from collections import Counter"
   ]
  },
  {
   "cell_type": "code",
   "execution_count": 106,
   "metadata": {},
   "outputs": [
    {
     "name": "stdout",
     "output_type": "stream",
     "text": [
      "['', 'Intent', 'Gender', 'Age', 'Race', 'Deaths', 'Population', 'Rate']\n"
     ]
    }
   ],
   "source": [
    "with open('interactive_data.csv') as csv_file:\n",
    "    csv_reader = csv.reader(csv_file, delimiter=',')\n",
    "    first_line = True\n",
    "    cnt_1 = Counter()\n",
    "    cnt_2 = Counter()\n",
    "    cnt_3 = Counter()\n",
    "    for row in csv_reader:\n",
    "        if first_line:\n",
    "            print(row)\n",
    "            first_line = False\n",
    "        else:\n",
    "            if row[1] != 'None selected':\n",
    "                cnt_1[row[1]] += int(row[5])\n",
    "            if row[1] == 'Suicide':\n",
    "                if row[2] != 'None selected':\n",
    "                    cnt_2[row[2]] += int(row[5])\n",
    "            if row[1] == 'Homicide':\n",
    "                if row[2] == 'Male':\n",
    "                    if row[3] == '15 - 34':\n",
    "                        if row[4] != 'None selected':\n",
    "                            cnt_3[row[4]] += int(row[5])\n",
    "            if row[1] == 'Homicide':\n",
    "                if row[2] != 'None selected':\n",
    "                    cnt_2[row[2]] += int(row[5])"
   ]
  },
  {
   "cell_type": "code",
   "execution_count": 107,
   "metadata": {},
   "outputs": [
    {
     "data": {
      "text/plain": [
       "0.6267518388029272"
      ]
     },
     "execution_count": 107,
     "metadata": {},
     "output_type": "execute_result"
    }
   ],
   "source": [
    "cnt_1['Suicide']/sum(cnt_1.values())"
   ]
  },
  {
   "cell_type": "code",
   "execution_count": 108,
   "metadata": {},
   "outputs": [
    {
     "data": {
      "text/plain": [
       "0.8569914365673065"
      ]
     },
     "execution_count": 108,
     "metadata": {},
     "output_type": "execute_result"
    }
   ],
   "source": [
    "cnt_2['Male']/sum(cnt_2.values())"
   ]
  },
  {
   "cell_type": "code",
   "execution_count": 109,
   "metadata": {},
   "outputs": [
    {
     "data": {
      "text/plain": [
       "0.3490023773294294"
      ]
     },
     "execution_count": 109,
     "metadata": {},
     "output_type": "execute_result"
    }
   ],
   "source": [
    "cnt_1[\"Homicide\"]/sum(cnt_1.values())"
   ]
  },
  {
   "cell_type": "code",
   "execution_count": 110,
   "metadata": {},
   "outputs": [
    {
     "data": {
      "text/plain": [
       "0.6612482748044778"
      ]
     },
     "execution_count": 110,
     "metadata": {},
     "output_type": "execute_result"
    }
   ],
   "source": [
    "cnt_3[\"Black\"]/sum(cnt_3.values())"
   ]
  },
  {
   "cell_type": "code",
   "execution_count": 111,
   "metadata": {},
   "outputs": [
    {
     "data": {
      "text/plain": [
       "0.14300856343269355"
      ]
     },
     "execution_count": 111,
     "metadata": {},
     "output_type": "execute_result"
    }
   ],
   "source": [
    "cnt_2['Female']/sum(cnt_2.values())"
   ]
  },
  {
   "cell_type": "code",
   "execution_count": null,
   "metadata": {},
   "outputs": [],
   "source": []
  }
 ],
 "metadata": {
  "kernelspec": {
   "display_name": "Python [conda env:ada] *",
   "language": "python",
   "name": "conda-env-ada-py"
  },
  "language_info": {
   "codemirror_mode": {
    "name": "ipython",
    "version": 3
   },
   "file_extension": ".py",
   "mimetype": "text/x-python",
   "name": "python",
   "nbconvert_exporter": "python",
   "pygments_lexer": "ipython3",
   "version": "3.8.5"
  }
 },
 "nbformat": 4,
 "nbformat_minor": 4
}
